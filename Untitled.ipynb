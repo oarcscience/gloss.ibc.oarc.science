{
 "cells": [
  {
   "cell_type": "code",
   "execution_count": null,
   "metadata": {},
   "outputs": [],
   "source": [
    "def hover(x):\n",
    "    index=x.find(\".\")\n",
    "    if index==-1: return x\n",
    "    else: return x[:index]\n",
    "\n",
    "def morph(x):\n",
    "    index=x.find(\".\")\n",
    "    if index==-1: return \"\"\n",
    "    else: return \"+\"+x[index+1:]\n",
    "\n",
    "\n",
    "def stransform(inputw):\n",
    "    if len(inputw)>0 and inputw[0]==\"[\":\n",
    "        return \" ʔăḏōnāy\"\n",
    "    elif len(inputw)>1 and inputw[0]==inputw[1]:\n",
    "        return \"-\"+inputw[0]+\"-\"+inputw[1:]\n",
    "    else:\n",
    "        return inputw\n",
    "\n",
    "def septransform(inputw):\n",
    "    if inputw!=\"\":\n",
    "        return \" \"\n",
    "    else:\n",
    "        return inputw\n",
    "\n",
    "def beautify(phon):\n",
    "\treturn phon.replace(\"ḏ\",\"d\").replace(\"ḡ\",\"g\").replace(\"ṯ\",\"t\").replace(\"ḵ\",\"x\").replace(\"ʔ\",\"ʾ\").replace(\"ʕ\",\"ʿ\").replace(\"ₐ\",\"a\").replace(\"î\",\"ī\").replace(\"ê\",\"ē\").replace(\"ô\",\"ō\").replace(\"û\",\"ū\").replace(\"ᵒ\",\"ŏ\").replace(\"ᵉ\",\"ĕ\").replace(\"ᵃ\",\"ă\").replace(\"ᵊ\",\"ᵉ\").replace(\"ʸ\",\"\").replace(\"ˈ\",'<sub id=\"s\">́</sub>').replace(\"  \",\" \").replace(\" -\",\"-\")\n",
    "\n",
    "\n",
    "def repl(inputw):\n",
    "    text=beautify(inputw)\n",
    "    return text\n"
   ]
  },
  {
   "cell_type": "code",
   "execution_count": null,
   "metadata": {},
   "outputs": [],
   "source": [
    "import pandas as pd\n",
    "print('Loading verses...\\r',end=\"\")    \n",
    "df=pd.read_csv(\"_data/bible.csv\",sep=\"\\t\")\n",
    "ixv=pd.read_csv(\"_data/indexv.csv\",sep=\"\\t\",header=None)\n",
    "\n",
    "\n",
    "print('Loading words...\\r',end=\"\")    \n",
    "dfw=pd.read_csv(\"_data/byword.csv\",sep=\"\\t\").fillna(\" \")\n",
    "dfwt=dfw[\"trans1\"].apply(stransform)\n"
   ]
  },
  {
   "cell_type": "code",
   "execution_count": null,
   "metadata": {},
   "outputs": [],
   "source": [
    "listvoidsep=[]\n",
    "for i  in range(dfw.shape[0]):\n",
    "    if i%100==0:\n",
    "        print('Arranging concatenative particles: {:.0%}'.format(i/dfw.shape[0]),\"\\r\",end=\"\")    \n",
    "    if len(dfwt.iloc[i])>0 and dfwt.iloc[i][0]==\"-\":\n",
    "        listvoidsep=[i-1]+listvoidsep\n",
    "\n",
    "print('Arranging concatenative particles (2): {:.0%}'.format(i/dfw.shape[0]),\"\\r\",end=\"\")    \n",
    "dfw.iloc[listvoidsep,8]=\"\"\n",
    "\n",
    "\n",
    "\n",
    "\n",
    "dfw[\"wordcat\"]=dfwt +dfw[\"separ\"].apply(septransform)\n",
    "words=dfw.fillna(\"\").groupby(\"WLCverse\")[\"wordcat\"].apply(list).apply(\"\".join).apply(repl)\n",
    "\n"
   ]
  },
  {
   "cell_type": "code",
   "execution_count": null,
   "metadata": {},
   "outputs": [],
   "source": [
    "words[1]"
   ]
  },
  {
   "cell_type": "code",
   "execution_count": null,
   "metadata": {},
   "outputs": [],
   "source": [
    "glosstr0=pd.DataFrame()\n",
    "collist=[\"extendedStrongNumber\",\"trans1\",\"morphology\",\"gloss\",\"BSBsort\",\"BSB\"]\n",
    "for col in collist:\n",
    "    glosstr0[col]=dfw.fillna(\"\").groupby(\"WLCverse\")[col].apply(list)\n",
    "glosstr0[\"zip\"]=glosstr0.apply(lambda x: zip(*[x[col] for col in collist]),axis=1).apply(list)\n",
    "template1=\"\"\"<span id=\"word\"><ol class=word><li lang=he><a href=\"/w/{}\" target=\"_blank\">{}</a></li><li title=\"{}\" lang=en_MORPH>{}<span style=\"font-variant:small-caps;font-size:114%;\">{}</span></li><li lang=en_MORPH><sup style=\"color: lightgray;\">{}</sup>{}</li></ol></span>\"\"\"\n",
    "glosstr0[\"generated\"]=glosstr0[\"zip\"].apply(lambda y: \"\".join([template1.format(strn[1:],beautify(trs1),hover(mor),gl,morph(mor),(lambda x: int(float(x)) if x!=\" \" else \"\")(bsbs),bsb) for strn,trs1,mor,gl,bsbs,bsb in  y ]))"
   ]
  },
  {
   "cell_type": "code",
   "execution_count": null,
   "metadata": {},
   "outputs": [],
   "source": [
    "from IPython.core.display import display, HTML\n",
    "display(HTML('<h1>Hello, world!</h1>'))"
   ]
  },
  {
   "cell_type": "code",
   "execution_count": null,
   "metadata": {},
   "outputs": [],
   "source": [
    "display(HTML(glosstr0.iloc[1,7]))\n",
    "\n"
   ]
  },
  {
   "cell_type": "code",
   "execution_count": null,
   "metadata": {},
   "outputs": [],
   "source": []
  }
 ],
 "metadata": {
  "kernelspec": {
   "display_name": "Python 3",
   "language": "python",
   "name": "python3"
  },
  "language_info": {
   "codemirror_mode": {
    "name": "ipython",
    "version": 3
   },
   "file_extension": ".py",
   "mimetype": "text/x-python",
   "name": "python",
   "nbconvert_exporter": "python",
   "pygments_lexer": "ipython3",
   "version": "3.6.7"
  }
 },
 "nbformat": 4,
 "nbformat_minor": 2
}
